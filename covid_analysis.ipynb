{
 "cells": [
  {
   "cell_type": "code",
   "execution_count": 1,
   "metadata": {},
   "outputs": [
    {
     "name": "stderr",
     "output_type": "stream",
     "text": [
      "Warning message:\n",
      "“package ‘Seurat’ was built under R version 3.6.3”\n"
     ]
    }
   ],
   "source": [
    "library(Seurat)"
   ]
  },
  {
   "cell_type": "code",
   "execution_count": 2,
   "metadata": {},
   "outputs": [
    {
     "name": "stderr",
     "output_type": "stream",
     "text": [
      "Warning message in sparseMatrix(i = indices[] + 1, p = indptr[], x = as.numeric(x = counts[]), :\n",
      "“'giveCsparse' has been deprecated; setting 'repr = \"T\"' for you”\n",
      "Warning message in sparseMatrix(i = indices[] + 1, p = indptr[], x = as.numeric(x = counts[]), :\n",
      "“'giveCsparse' has been deprecated; setting 'repr = \"T\"' for you”\n",
      "Warning message in sparseMatrix(i = indices[] + 1, p = indptr[], x = as.numeric(x = counts[]), :\n",
      "“'giveCsparse' has been deprecated; setting 'repr = \"T\"' for you”\n",
      "Warning message in sparseMatrix(i = indices[] + 1, p = indptr[], x = as.numeric(x = counts[]), :\n",
      "“'giveCsparse' has been deprecated; setting 'repr = \"T\"' for you”\n",
      "Warning message in sparseMatrix(i = indices[] + 1, p = indptr[], x = as.numeric(x = counts[]), :\n",
      "“'giveCsparse' has been deprecated; setting 'repr = \"T\"' for you”\n",
      "Warning message in sparseMatrix(i = indices[] + 1, p = indptr[], x = as.numeric(x = counts[]), :\n",
      "“'giveCsparse' has been deprecated; setting 'repr = \"T\"' for you”\n",
      "Warning message in sparseMatrix(i = indices[] + 1, p = indptr[], x = as.numeric(x = counts[]), :\n",
      "“'giveCsparse' has been deprecated; setting 'repr = \"T\"' for you”\n",
      "Warning message in sparseMatrix(i = indices[] + 1, p = indptr[], x = as.numeric(x = counts[]), :\n",
      "“'giveCsparse' has been deprecated; setting 'repr = \"T\"' for you”\n",
      "Warning message in sparseMatrix(i = indices[] + 1, p = indptr[], x = as.numeric(x = counts[]), :\n",
      "“'giveCsparse' has been deprecated; setting 'repr = \"T\"' for you”\n",
      "Warning message in sparseMatrix(i = indices[] + 1, p = indptr[], x = as.numeric(x = counts[]), :\n",
      "“'giveCsparse' has been deprecated; setting 'repr = \"T\"' for you”\n",
      "Warning message in sparseMatrix(i = indices[] + 1, p = indptr[], x = as.numeric(x = counts[]), :\n",
      "“'giveCsparse' has been deprecated; setting 'repr = \"T\"' for you”\n",
      "Warning message in sparseMatrix(i = indices[] + 1, p = indptr[], x = as.numeric(x = counts[]), :\n",
      "“'giveCsparse' has been deprecated; setting 'repr = \"T\"' for you”\n"
     ]
    },
    {
     "data": {
      "text/html": [
       "<table>\n",
       "<caption>A data.frame: 6 × 8</caption>\n",
       "<thead>\n",
       "\t<tr><th></th><th scope=col>ID</th><th scope=col>sample</th><th scope=col>sample_new</th><th scope=col>group</th><th scope=col>disease</th><th scope=col>hasnCoV</th><th scope=col>cluster</th><th scope=col>celltype</th></tr>\n",
       "\t<tr><th></th><th scope=col>&lt;fct&gt;</th><th scope=col>&lt;fct&gt;</th><th scope=col>&lt;fct&gt;</th><th scope=col>&lt;fct&gt;</th><th scope=col>&lt;fct&gt;</th><th scope=col>&lt;fct&gt;</th><th scope=col>&lt;int&gt;</th><th scope=col>&lt;fct&gt;</th></tr>\n",
       "</thead>\n",
       "<tbody>\n",
       "\t<tr><th scope=row>AAACCTGAGACACTAA_1</th><td>AAACCTGAGACACTAA_1</td><td>C51</td><td>HC1</td><td>HC</td><td>N</td><td>N</td><td>3</td><td>Macrophages</td></tr>\n",
       "\t<tr><th scope=row>AAACCTGAGGAGTACC_1</th><td>AAACCTGAGGAGTACC_1</td><td>C51</td><td>HC1</td><td>HC</td><td>N</td><td>N</td><td>3</td><td>Macrophages</td></tr>\n",
       "\t<tr><th scope=row>AAACCTGAGGATATAC_1</th><td>AAACCTGAGGATATAC_1</td><td>C51</td><td>HC1</td><td>HC</td><td>N</td><td>N</td><td>3</td><td>Macrophages</td></tr>\n",
       "\t<tr><th scope=row>AAACCTGAGGTCATCT_1</th><td>AAACCTGAGGTCATCT_1</td><td>C51</td><td>HC1</td><td>HC</td><td>N</td><td>N</td><td>3</td><td>Macrophages</td></tr>\n",
       "\t<tr><th scope=row>AAACCTGCACGGATAG_1</th><td>AAACCTGCACGGATAG_1</td><td>C51</td><td>HC1</td><td>HC</td><td>N</td><td>N</td><td>5</td><td>Macrophages</td></tr>\n",
       "\t<tr><th scope=row>AAACCTGCAGGGAGAG_1</th><td>AAACCTGCAGGGAGAG_1</td><td>C51</td><td>HC1</td><td>HC</td><td>N</td><td>N</td><td>2</td><td>Macrophages</td></tr>\n",
       "</tbody>\n",
       "</table>\n"
      ],
      "text/latex": [
       "A data.frame: 6 × 8\n",
       "\\begin{tabular}{r|llllllll}\n",
       "  & ID & sample & sample\\_new & group & disease & hasnCoV & cluster & celltype\\\\\n",
       "  & <fct> & <fct> & <fct> & <fct> & <fct> & <fct> & <int> & <fct>\\\\\n",
       "\\hline\n",
       "\tAAACCTGAGACACTAA\\_1 & AAACCTGAGACACTAA\\_1 & C51 & HC1 & HC & N & N & 3 & Macrophages\\\\\n",
       "\tAAACCTGAGGAGTACC\\_1 & AAACCTGAGGAGTACC\\_1 & C51 & HC1 & HC & N & N & 3 & Macrophages\\\\\n",
       "\tAAACCTGAGGATATAC\\_1 & AAACCTGAGGATATAC\\_1 & C51 & HC1 & HC & N & N & 3 & Macrophages\\\\\n",
       "\tAAACCTGAGGTCATCT\\_1 & AAACCTGAGGTCATCT\\_1 & C51 & HC1 & HC & N & N & 3 & Macrophages\\\\\n",
       "\tAAACCTGCACGGATAG\\_1 & AAACCTGCACGGATAG\\_1 & C51 & HC1 & HC & N & N & 5 & Macrophages\\\\\n",
       "\tAAACCTGCAGGGAGAG\\_1 & AAACCTGCAGGGAGAG\\_1 & C51 & HC1 & HC & N & N & 2 & Macrophages\\\\\n",
       "\\end{tabular}\n"
      ],
      "text/markdown": [
       "\n",
       "A data.frame: 6 × 8\n",
       "\n",
       "| <!--/--> | ID &lt;fct&gt; | sample &lt;fct&gt; | sample_new &lt;fct&gt; | group &lt;fct&gt; | disease &lt;fct&gt; | hasnCoV &lt;fct&gt; | cluster &lt;int&gt; | celltype &lt;fct&gt; |\n",
       "|---|---|---|---|---|---|---|---|---|\n",
       "| AAACCTGAGACACTAA_1 | AAACCTGAGACACTAA_1 | C51 | HC1 | HC | N | N | 3 | Macrophages |\n",
       "| AAACCTGAGGAGTACC_1 | AAACCTGAGGAGTACC_1 | C51 | HC1 | HC | N | N | 3 | Macrophages |\n",
       "| AAACCTGAGGATATAC_1 | AAACCTGAGGATATAC_1 | C51 | HC1 | HC | N | N | 3 | Macrophages |\n",
       "| AAACCTGAGGTCATCT_1 | AAACCTGAGGTCATCT_1 | C51 | HC1 | HC | N | N | 3 | Macrophages |\n",
       "| AAACCTGCACGGATAG_1 | AAACCTGCACGGATAG_1 | C51 | HC1 | HC | N | N | 5 | Macrophages |\n",
       "| AAACCTGCAGGGAGAG_1 | AAACCTGCAGGGAGAG_1 | C51 | HC1 | HC | N | N | 2 | Macrophages |\n",
       "\n"
      ],
      "text/plain": [
       "                   ID                 sample sample_new group disease hasnCoV\n",
       "AAACCTGAGACACTAA_1 AAACCTGAGACACTAA_1 C51    HC1        HC    N       N      \n",
       "AAACCTGAGGAGTACC_1 AAACCTGAGGAGTACC_1 C51    HC1        HC    N       N      \n",
       "AAACCTGAGGATATAC_1 AAACCTGAGGATATAC_1 C51    HC1        HC    N       N      \n",
       "AAACCTGAGGTCATCT_1 AAACCTGAGGTCATCT_1 C51    HC1        HC    N       N      \n",
       "AAACCTGCACGGATAG_1 AAACCTGCACGGATAG_1 C51    HC1        HC    N       N      \n",
       "AAACCTGCAGGGAGAG_1 AAACCTGCAGGGAGAG_1 C51    HC1        HC    N       N      \n",
       "                   cluster celltype   \n",
       "AAACCTGAGACACTAA_1 3       Macrophages\n",
       "AAACCTGAGGAGTACC_1 3       Macrophages\n",
       "AAACCTGAGGATATAC_1 3       Macrophages\n",
       "AAACCTGAGGTCATCT_1 3       Macrophages\n",
       "AAACCTGCACGGATAG_1 5       Macrophages\n",
       "AAACCTGCAGGGAGAG_1 2       Macrophages"
      ]
     },
     "metadata": {},
     "output_type": "display_data"
    }
   ],
   "source": [
    "mat <- list()\n",
    "mat$HC1 <- Read10X_h5(filename = \"/fdata/single-cell/COVID-19/GSM4475048_C51_filtered_feature_bc_matrix.h5\")\n",
    "mat$HC2 <- Read10X_h5(filename = \"/fdata/single-cell/COVID-19/GSM4475049_C52_filtered_feature_bc_matrix.h5\")\n",
    "mat$HC3 <- Read10X_h5(filename = \"/fdata/single-cell/COVID-19/GSM4475050_C100_filtered_feature_bc_matrix.h5\")\n",
    "mat$HC4 <- Read10X(data.dir = \"/fdata/single-cell/COVID-19/GSM3660650/\")\n",
    "mat$M1 <- Read10X_h5(filename = \"/fdata/single-cell/COVID-19/GSM4339769_C141_filtered_feature_bc_matrix.h5\")\n",
    "mat$M2 <- Read10X_h5(filename = \"/fdata/single-cell/COVID-19/GSM4339770_C142_filtered_feature_bc_matrix.h5\")\n",
    "mat$M3 <- Read10X_h5(filename = \"/fdata/single-cell/COVID-19/GSM4339772_C144_filtered_feature_bc_matrix.h5\")\n",
    "mat$S1 <- Read10X_h5(filename = \"/fdata/single-cell/COVID-19/GSM4339773_C145_filtered_feature_bc_matrix.h5\")\n",
    "mat$S2 <- Read10X_h5(filename = \"/fdata/single-cell/COVID-19/GSM4339771_C143_filtered_feature_bc_matrix.h5\")\n",
    "mat$S3 <- Read10X_h5(filename = \"/fdata/single-cell/COVID-19/GSM4339774_C146_filtered_feature_bc_matrix.h5\")\n",
    "mat$S4 <- Read10X_h5(filename = \"/fdata/single-cell/COVID-19/GSM4475051_C148_filtered_feature_bc_matrix.h5\")\n",
    "mat$S5 <- Read10X_h5(filename = \"/fdata/single-cell/COVID-19/GSM4475052_C149_filtered_feature_bc_matrix.h5\")\n",
    "mat$S6 <- Read10X_h5(filename = \"/fdata/single-cell/COVID-19/GSM4475053_C152_filtered_feature_bc_matrix.h5\")\n",
    "meta.data <- read.delim(\"/fdata/single-cell/COVID-19/all.cell.annotation.meta.txt\")\n",
    "rownames(meta.data) <- meta.data$ID\n",
    "head(meta.data)"
   ]
  },
  {
   "cell_type": "code",
   "execution_count": 3,
   "metadata": {},
   "outputs": [],
   "source": [
    "numbering = c(HC1 = 1,\n",
    "              HC2 = 2,\n",
    "              HC3 = 3,\n",
    "              HC4 = 4,\n",
    "              M1 = 5,\n",
    "              M2 = 6,\n",
    "              M3 = 7,\n",
    "              S1 = 9,\n",
    "              S2 = 8,\n",
    "              S3 = 10,\n",
    "              S4 = 11,\n",
    "              S5 = 12,\n",
    "              S6 = 13)"
   ]
  },
  {
   "cell_type": "code",
   "execution_count": 4,
   "metadata": {},
   "outputs": [],
   "source": [
    "for (i in names(mat)){\n",
    "  colnames(mat[[i]]) <- gsub('-', '_', colnames(mat[[i]]))\n",
    "  colnames(mat[[i]]) <- gsub('1', numbering[i], colnames(mat[[i]]))\n",
    "}"
   ]
  },
  {
   "cell_type": "code",
   "execution_count": 5,
   "metadata": {},
   "outputs": [],
   "source": [
    "for (i in names(mat)){\n",
    " mat[[i]] <- mat[[i]][, meta.data$ID[meta.data$sample_new == i]]\n",
    "}"
   ]
  },
  {
   "cell_type": "code",
   "execution_count": 6,
   "metadata": {},
   "outputs": [],
   "source": [
    "objs <- list()\n",
    "for (i in names(mat)){\n",
    " objs[[i]] <- CreateSeuratObject(mat[[i]], project = i, meta.data = meta.data[meta.data$sample_new == i, ])\n",
    "}"
   ]
  },
  {
   "cell_type": "code",
   "execution_count": 7,
   "metadata": {},
   "outputs": [],
   "source": [
    "obj <- merge(objs[[1]], objs[-1])"
   ]
  },
  {
   "cell_type": "code",
   "execution_count": 8,
   "metadata": {},
   "outputs": [],
   "source": [
    "obj <- NormalizeData(obj, verbose=FALSE)\n",
    "obj <- FindVariableFeatures(obj, selection.method = \"vst\", nfeatures = 2000, verbose=FALSE)\n",
    "\n"
   ]
  },
  {
   "cell_type": "code",
   "execution_count": 10,
   "metadata": {},
   "outputs": [],
   "source": [
    "dir.create(\"data/normalized/covid/data/\", showWarnings = FALSE, recursive = TRUE)\n",
    "dir.create(\"data/normalized/covid/cell_labels/\", showWarnings = FALSE, recursive = TRUE)\n",
    "\n",
    "dir.create(\"data/normalized/covid_generalization/data/\", showWarnings = FALSE, recursive = TRUE)\n",
    "dir.create(\"data/normalized/covid_generalization/cell_labels/\", showWarnings = FALSE, recursive = TRUE)\n",
    "\n",
    "initial_batches <- c('HC1', 'HC2', 'HC3')\n",
    "\n",
    "covid.list <- SplitObject(obj, split.by = \"sample_new\")\n",
    "common_variable_features = VariableFeatures(obj)\n",
    "\n",
    "for (i in 1:length(x = covid.list)) {\n",
    "    data_to_save <- as.data.frame(covid.list[[i]]$RNA@data[common_variable_features,])\n",
    "    tech_name <- unique(covid.list[[i]]$sample_new)\n",
    "    \n",
    "    write.csv(data_to_save, paste(\"data/normalized/covid_generalization/data/\", tech_name, \".csv\", sep=\"\"))\n",
    "    write.csv(covid.list[[i]]$celltype, paste(\"data/normalized/covid_generalization/cell_labels/\", tech_name, \".csv\", sep=\"\"))\n",
    "    \n",
    "    if (tech_name %in% initial_batches) {\n",
    "        write.csv(data_to_save, paste(\"data/normalized/covid/data/\", tech_name, \".csv\", sep=\"\"))\n",
    "        write.csv(covid.list[[i]]$celltype, paste(\"data/normalized/covid/cell_labels/\", tech_name, \".csv\", sep=\"\"))\n",
    "    }\n",
    "}"
   ]
  },
  {
   "cell_type": "code",
   "execution_count": null,
   "metadata": {},
   "outputs": [],
   "source": [
    "obj <- ScaleData(obj, verbose=FALSE)\n",
    "obj <- RunPCA(obj, features = VariableFeatures(object = obj), verbose=FALSE)\n",
    "ElbowPlot(obj)"
   ]
  },
  {
   "cell_type": "code",
   "execution_count": null,
   "metadata": {},
   "outputs": [],
   "source": [
    "obj <- RunUMAP(obj, dims = 1:30, verbose=FALSE)"
   ]
  },
  {
   "cell_type": "code",
   "execution_count": null,
   "metadata": {},
   "outputs": [],
   "source": [
    "DimPlot(obj, reduction = \"umap\", group.by = \"celltype\", label = T, pt.size = 0.01)\n",
    "DimPlot(obj, reduction = \"umap\", group.by = \"group\")\n",
    "DimPlot(obj, reduction = \"umap\", group.by = \"disease\")"
   ]
  },
  {
   "cell_type": "code",
   "execution_count": null,
   "metadata": {},
   "outputs": [],
   "source": []
  },
  {
   "cell_type": "code",
   "execution_count": null,
   "metadata": {},
   "outputs": [],
   "source": []
  },
  {
   "cell_type": "code",
   "execution_count": null,
   "metadata": {},
   "outputs": [],
   "source": []
  }
 ],
 "metadata": {
  "kernelspec": {
   "display_name": "R",
   "language": "R",
   "name": "ir"
  },
  "language_info": {
   "codemirror_mode": "r",
   "file_extension": ".r",
   "mimetype": "text/x-r-source",
   "name": "R",
   "pygments_lexer": "r",
   "version": "3.6.1"
  }
 },
 "nbformat": 4,
 "nbformat_minor": 4
}
