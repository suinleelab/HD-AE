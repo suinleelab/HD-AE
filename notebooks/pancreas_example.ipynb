{
 "cells": [
  {
   "cell_type": "markdown",
   "id": "9bbc34c5-3c48-4d05-9b4d-dc8408042b76",
   "metadata": {},
   "source": [
    "# Tutorial: Integration of pancreas islet cell data collected using five different technologies\n",
    "\n",
    "This tutorial demonstrates how to use HD-AE to integrate scRNA-seq data from different sources. In this tutorial we'll be considering a set of pancreas islet data collected by five different laboratories, each using a different scRNA-seq protocol.\n",
    "\n",
    "---\n",
    "\n",
    "## Tutorial Goals:\n",
    "\n",
    "The following is short a walkthrough of a typical scRNA-seq alignment problem that `HD-AE` is designed to solve. Our goals here are:\n",
    "\n",
    "1. Learn a low-dimensional embedding space in which cells group by meaningful biological variations rather than nuisance factors (e.g. scRNA-seq technology)\n",
    "2. Use such a space to perform downstream analysis tasks\n",
    "\n",
    "---\n",
    "\n",
    "## The data:\n",
    "\n",
    "Our data consists of 14,890 cells, the expression levels of which were measured using five different scRNA-seq technologies. For convenience we provide a preprocessed version of the data available for download <a href=\"https://www.dropbox.com/s/pgda8w112ks0dd5/pancreas.h5ad?dl=0\">here</a> that has already been filtered down to the 2000 most variable genes and has been normalized using the <a href=\"https://satijalab.org/seurat/\">Seurat R package</a>. The `HD-AE` codebase was designed for use with the <a href=\"https://scanpy.readthedocs.io/en/stable/\">scanpy</a> Python package, which we will use here to read in and visualize our data.\n",
    "\n",
    "First, we'll verify that the data does indeed have strong batch effects using the UMAP dimensionality reduction algorithm. Our provided dataset has been annotated with the technology used to collect it as well as ground-truth cell types, making it easy to confirm the presence batch effects. "
   ]
  },
  {
   "cell_type": "code",
   "execution_count": null,
   "id": "c7a0de2e-f2c3-488f-88c8-6532851b02a6",
   "metadata": {
    "tags": []
   },
   "outputs": [],
   "source": [
    "import scanpy as sc\n",
    "from hd_ae import set_seeds\n",
    "\n",
    "set_seeds() # To ensure reproducibility\n",
    "adata = sc.read(\"pancreas.h5ad\")\n",
    "\n",
    "sc.pp.neighbors(adata)\n",
    "sc.tl.umap(adata)\n",
    "sc.pl.umap(adata, color=['cell_type', 'study'], wspace=0.25)"
   ]
  },
  {
   "cell_type": "markdown",
   "id": "892a515d-6901-48ea-b0d6-3a4a931a9974",
   "metadata": {},
   "source": [
    "From our UMAP plots, we can see the data has _strong_ batch effects; it separates almost perfectly by batch, and cells from the same cell type are often broken up into multiple distinct clusters based on their batch of origin.\n",
    "\n",
    "---"
   ]
  },
  {
   "cell_type": "markdown",
   "id": "0c29a954-cebd-477f-908c-7016cdaad936",
   "metadata": {},
   "source": [
    "## HD-AE setup:"
   ]
  },
  {
   "cell_type": "markdown",
   "id": "a21770cd-ee1f-43bc-b8e0-c25fad0becd0",
   "metadata": {},
   "source": [
    "The low-level details of HD-AE have been abstracted away into a single `HD_AE` class that performs model training with just a few API calls. The `HD_AE` class requires at initialization time an AnnData object along with the name of the field used to denote each sample's batch of origin in the `obs` field of your AnnData object (`batch_key`). The values of HD-AE's hyperparameters can also be set here. We do them explicitly in this tutorial to illustrate the process, though these fields can also be left blank to use a reasonable default set of hyperparameters."
   ]
  },
  {
   "cell_type": "code",
   "execution_count": null,
   "id": "99fb37ba-6c23-48a8-a1d2-4d771f5d6e38",
   "metadata": {},
   "outputs": [],
   "source": [
    "from hd_ae import HD_AE\n",
    "\n",
    "model = HD_AE(\n",
    "    adata,\n",
    "    batch_key='study',\n",
    "    hidden_layer_sizes=[500, 250],\n",
    "    learning_rate = 1e-3,\n",
    "    embedding_dimension=50,\n",
    "    hsic_penalty = 1\n",
    ")"
   ]
  },
  {
   "cell_type": "markdown",
   "id": "806a2209-49d3-4741-b643-5d8e1bb1c58b",
   "metadata": {},
   "source": [
    "## Training the model:\n",
    "\n",
    "Once defined, the model can be trained with a single call to the `train` function."
   ]
  },
  {
   "cell_type": "code",
   "execution_count": null,
   "id": "9b3865d8-b953-4c5e-8e2a-bbe0f9f23ce3",
   "metadata": {
    "tags": []
   },
   "outputs": [],
   "source": [
    "model.train(num_epochs=100)"
   ]
  },
  {
   "cell_type": "markdown",
   "id": "01bd687a-835d-4bbd-b50c-ca648993db49",
   "metadata": {},
   "source": [
    "Once trained, the HD-AE model can be used to produce integrated sets of low-dimensional embeddings."
   ]
  },
  {
   "cell_type": "code",
   "execution_count": null,
   "id": "e74d935e-3abd-4d58-97ef-391c8b43de49",
   "metadata": {},
   "outputs": [],
   "source": [
    "hd_ae_embeddings = model.embed_data(adata)"
   ]
  },
  {
   "cell_type": "markdown",
   "id": "ba14b5e1-eb55-46bd-91bb-dceab9e3e534",
   "metadata": {},
   "source": [
    "Now we use UMAP plots to quickly verify that our embeddings have been correctly integrated across batches:"
   ]
  },
  {
   "cell_type": "code",
   "execution_count": null,
   "id": "50c9fe95-a4ef-4f7a-971d-274f98d1247f",
   "metadata": {},
   "outputs": [],
   "source": [
    "sc.pp.neighbors(hd_ae_embeddings)\n",
    "sc.tl.umap(hd_ae_embeddings)\n",
    "sc.pl.umap(hd_ae_embeddings, color=['cell_type', 'study'], wspace=0.3)"
   ]
  },
  {
   "cell_type": "markdown",
   "id": "b0f621e0-a3b4-488a-8ade-6470f6df5bdf",
   "metadata": {},
   "source": [
    "Based on our UMAP plots we can see that our data points cluster based on cell type and are mixed across the different technologies!"
   ]
  }
 ],
 "metadata": {
  "kernelspec": {
   "display_name": "Python 3",
   "language": "python",
   "name": "python3"
  },
  "language_info": {
   "codemirror_mode": {
    "name": "ipython",
    "version": 3
   },
   "file_extension": ".py",
   "mimetype": "text/x-python",
   "name": "python",
   "nbconvert_exporter": "python",
   "pygments_lexer": "ipython3",
   "version": "3.8.8"
  }
 },
 "nbformat": 4,
 "nbformat_minor": 5
}
